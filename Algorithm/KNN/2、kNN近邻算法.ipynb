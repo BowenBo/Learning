{
 "cells": [
  {
   "cell_type": "markdown",
   "metadata": {},
   "source": [
    "# k邻近算法过程"
   ]
  },
  {
   "cell_type": "markdown",
   "metadata": {},
   "source": [
    "## 一、自行设计算法过程"
   ]
  },
  {
   "cell_type": "markdown",
   "metadata": {},
   "source": [
    "### 1.1、创建数据\n",
    "    * 特征数据raw_data_X\n",
    "    * 结果数据raw_data_y"
   ]
  },
  {
   "cell_type": "markdown",
   "metadata": {},
   "source": [
    "### 1.2、将数据转化array数组格式的训练集\n",
    "    * X_train\n",
    "    * y_train"
   ]
  },
  {
   "cell_type": "markdown",
   "metadata": {},
   "source": [
    "### 1.3、计算预测点到训练集各点的距离最小值\n",
    "    * 欧拉距离计算公式distance\n",
    "    * distance排序：nearest = np.argsort(distance)\n",
    "    * 统计最接近的k个值：topK_y = [nearest[i] for i in nearest[:k]]\n",
    "    * 统计最接近的k个值中的结果分类：from collections import Counter, votes = Counter(topK_y)\n",
    "    * 得出1个预测值：votes.most_common(1)[0][0]"
   ]
  },
  {
   "cell_type": "code",
   "execution_count": null,
   "metadata": {},
   "outputs": [],
   "source": [
    "import math\n",
    "import numpy as np\n",
    "import matplotlib.pyplot as plt"
   ]
  },
  {
   "cell_type": "code",
   "execution_count": null,
   "metadata": {},
   "outputs": [],
   "source": [
    "raw_data_X = [[3.3, 2.3],\n",
    "              [3.1, 1.7],\n",
    "              [1.3, 3.3],\n",
    "              [3.6, 4.7],\n",
    "              [2.3, 2.9],\n",
    "              [7.4, 4.7],\n",
    "              [5.7, 3.6],\n",
    "              [9.1, 2.5],\n",
    "              [7.8, 3.4],\n",
    "              [7.9, 0.8]\n",
    "             ]\n",
    "raw_data_y = [0, 0, 0, 0, 0, 1, 1, 1, 1, 1]"
   ]
  },
  {
   "cell_type": "code",
   "execution_count": null,
   "metadata": {},
   "outputs": [],
   "source": [
    "X_train = np.array(raw_data_X)\n",
    "y_train = np.array(raw_data_y)"
   ]
  },
  {
   "cell_type": "code",
   "execution_count": null,
   "metadata": {},
   "outputs": [],
   "source": [
    "X_train"
   ]
  },
  {
   "cell_type": "code",
   "execution_count": null,
   "metadata": {},
   "outputs": [],
   "source": [
    "y_train"
   ]
  },
  {
   "cell_type": "markdown",
   "metadata": {},
   "source": [
    "### 分别对y_train == 0和1的情况绘制X_train位置图"
   ]
  },
  {
   "cell_type": "code",
   "execution_count": null,
   "metadata": {},
   "outputs": [],
   "source": [
    "plt.scatter(X_train[y_train == 0, 0], X_train[y_train == 0, 1], color = 'red')\n",
    "plt.scatter(X_train[y_train == 1, 0], X_train[y_train == 1, 1], color = 'b')\n",
    "plt.scatter(x[0],x[1], color='g', marker = 'x')"
   ]
  },
  {
   "cell_type": "code",
   "execution_count": null,
   "metadata": {},
   "outputs": [],
   "source": [
    "#欧拉公式距离计算示例(数组与向量的计算)\n",
    "a = np.array([3.3, 2.3])\n",
    "b = [8.1, 3.4] \n",
    "a - b"
   ]
  },
  {
   "cell_type": "code",
   "execution_count": null,
   "metadata": {},
   "outputs": [],
   "source": [
    "(a - b) ** 2"
   ]
  },
  {
   "cell_type": "code",
   "execution_count": null,
   "metadata": {},
   "outputs": [],
   "source": [
    "sum = np.sum((a-b)**2)\n",
    "sum"
   ]
  },
  {
   "cell_type": "code",
   "execution_count": null,
   "metadata": {},
   "outputs": [],
   "source": [
    "math.sqrt(sum)"
   ]
  },
  {
   "cell_type": "code",
   "execution_count": null,
   "metadata": {},
   "outputs": [],
   "source": [
    "x = np.array([8.1, 3.4])\n",
    "distance = [math.sqrt(np.sum(x_train- x) ** 2) for x_train in X_train ]  #每个样本均与预测点进行距离计算,表达式代替for循环提高效率\n",
    "distance\n"
   ]
  },
  {
   "cell_type": "code",
   "execution_count": null,
   "metadata": {},
   "outputs": [],
   "source": [
    "nearest = np.argsort(distance)"
   ]
  },
  {
   "cell_type": "code",
   "execution_count": null,
   "metadata": {},
   "outputs": [],
   "source": [
    "k = 6"
   ]
  },
  {
   "cell_type": "code",
   "execution_count": null,
   "metadata": {},
   "outputs": [],
   "source": [
    "topK_y = [y_train[i] for i in nearest[:k]]\n",
    "topK_y"
   ]
  },
  {
   "cell_type": "code",
   "execution_count": null,
   "metadata": {},
   "outputs": [],
   "source": [
    "from collections import Counter\n",
    "votes = Counter(topK_y)"
   ]
  },
  {
   "cell_type": "code",
   "execution_count": null,
   "metadata": {},
   "outputs": [],
   "source": [
    "votes.most_common(1)"
   ]
  },
  {
   "cell_type": "code",
   "execution_count": null,
   "metadata": {},
   "outputs": [],
   "source": [
    "votes.most_common(1)[0][0]#第1个元组的第一个元素"
   ]
  },
  {
   "cell_type": "markdown",
   "metadata": {},
   "source": [
    "#### collections模块的Counter类\n",
    "##### 类方法\n",
    "    * Counter(list/tuple/dict/string等)创建\n",
    "    * most_common(N):从多到少统计前N个数据，返回列表，列表元素为tuple：[（），（），（）]\n",
    "    * 解释页：http://www.pythoner.com/205.html"
   ]
  },
  {
   "cell_type": "markdown",
   "metadata": {},
   "source": [
    "### 1.4、kNN函数封装"
   ]
  },
  {
   "cell_type": "code",
   "execution_count": null,
   "metadata": {},
   "outputs": [],
   "source": [
    "import numpy as np\n",
    "import math\n",
    "from collections import Counter\n",
    "def kNN_classify(x, k, X_train, y_train):\n",
    "    distances = [math.sqrt(np.sum((x_train - x)**2)) for x_train in X_train]\n",
    "    nearest = np.argsort(distances)\n",
    "    topK_y = [y_train[i] for i in nearest[:k]]\n",
    "    votes = Counter(topK_y)\n",
    "    return votes.most_common(1)[0][0]"
   ]
  },
  {
   "cell_type": "code",
   "execution_count": null,
   "metadata": {},
   "outputs": [],
   "source": [
    "%run somelib/kNNFunction/kNN_Classify"
   ]
  },
  {
   "cell_type": "markdown",
   "metadata": {},
   "source": [
    "#### 封装函数验证"
   ]
  },
  {
   "cell_type": "code",
   "execution_count": null,
   "metadata": {},
   "outputs": [],
   "source": [
    "raw_data_X = [[3.3, 2.3],\n",
    "              [3.1, 1.7],\n",
    "              [1.3, 3.3],\n",
    "              [3.6, 4.7],\n",
    "              [2.3, 2.9],\n",
    "              [7.4, 4.7],\n",
    "              [5.7, 3.6],\n",
    "              [9.1, 2.5],\n",
    "              [7.8, 3.4],\n",
    "              [7.9, 0.8]\n",
    "             ]\n",
    "raw_data_y = [0, 0, 0, 0, 0, 1, 1, 1, 1, 1]\n",
    "X_train = np.array(raw_data_X)\n",
    "y_train = np.array(raw_data_y)\n",
    "x = np.array([8.1, 3.4])\n",
    "k = 6\n",
    "kNN_classify(x, k ,X_train, y_train)"
   ]
  },
  {
   "cell_type": "markdown",
   "metadata": {},
   "source": [
    "## 二、使用scikit—learn中的kNN"
   ]
  },
  {
   "cell_type": "code",
   "execution_count": null,
   "metadata": {},
   "outputs": [],
   "source": [
    "#导入\n",
    "from sklearn.neighbors import KNeighborsClassifier"
   ]
  },
  {
   "cell_type": "code",
   "execution_count": null,
   "metadata": {},
   "outputs": [],
   "source": [
    "#创建实例,n_neighbors相当于k\n",
    "kNN_classifier = KNeighborsClassifier(n_neighbors=6)"
   ]
  },
  {
   "cell_type": "code",
   "execution_count": null,
   "metadata": {},
   "outputs": [],
   "source": [
    "#拟合（实例传入训练数据集特征矩阵和标签向量进行拟合）\n",
    "kNN_classifier.fit(X_train, y_train)\n",
    "#现在模型将存在此实例中"
   ]
  },
  {
   "cell_type": "code",
   "execution_count": null,
   "metadata": {},
   "outputs": [],
   "source": [
    "x"
   ]
  },
  {
   "cell_type": "code",
   "execution_count": null,
   "metadata": {},
   "outputs": [],
   "source": [
    "#将向量转化为矩阵\n",
    "X = x.reshape(1, -1)"
   ]
  },
  {
   "cell_type": "code",
   "execution_count": null,
   "metadata": {},
   "outputs": [],
   "source": [
    "X"
   ]
  },
  {
   "cell_type": "code",
   "execution_count": null,
   "metadata": {},
   "outputs": [],
   "source": [
    "#利用模型对矩阵X进行结果预测\n",
    "kNN_classifier.predict(X)"
   ]
  },
  {
   "cell_type": "code",
   "execution_count": null,
   "metadata": {},
   "outputs": [],
   "source": [
    "#保存结果\n",
    "y_predict = kNN_classifier.predict(X)"
   ]
  },
  {
   "cell_type": "markdown",
   "metadata": {},
   "source": [
    "### 2018-9-3"
   ]
  },
  {
   "cell_type": "markdown",
   "metadata": {},
   "source": [
    "## 三、sklearn数据集拆分（训练集和测试集）\n",
    "### 3.1实现方法"
   ]
  },
  {
   "cell_type": "code",
   "execution_count": null,
   "metadata": {},
   "outputs": [],
   "source": [
    "import numpy as np\n",
    "import matplotlib.pyplot as plt\n",
    "#引入sklearn中的datasets数据集\n",
    "from sklearn import datasets"
   ]
  },
  {
   "cell_type": "code",
   "execution_count": null,
   "metadata": {},
   "outputs": [],
   "source": [
    "#加载鸢尾花数据集\n",
    "iris = datasets.load_iris()\n",
    "#导入数据特征属性值（特征矩阵）\n",
    "x = iris.data\n",
    "#导入数据目标值（结果标签对应的向量）\n",
    "y = iris.target\n",
    "x.shape, y.shape"
   ]
  },
  {
   "cell_type": "markdown",
   "metadata": {},
   "source": [
    "### train_test_split将数据集拆分为训练数据集和验证数据集"
   ]
  },
  {
   "cell_type": "markdown",
   "metadata": {},
   "source": [
    "#### 将原始数据乱序处理"
   ]
  },
  {
   "cell_type": "code",
   "execution_count": null,
   "metadata": {},
   "outputs": [],
   "source": [
    "#方法一：将x，y合并为一个矩阵（特征矩阵+标签向量），乱序后在拆分\n",
    "#方法二：只对数据的索引进行乱序\n",
    "shuffie_indexes = np.random.permutation(len(x))   #len(x)=150,对0到149进行随机排列"
   ]
  },
  {
   "cell_type": "code",
   "execution_count": null,
   "metadata": {},
   "outputs": [],
   "source": [
    "#设置测试数据集的比例\n",
    "test_ratio = 0.2\n",
    "#计算测试数据集的个数\n",
    "test_size = int(len(x) * test_ratio)\n",
    "test_size"
   ]
  },
  {
   "cell_type": "code",
   "execution_count": null,
   "metadata": {},
   "outputs": [],
   "source": [
    "#测试数据集索引\n",
    "test_indexes = shuffie_indexes[:test_size]\n",
    "#训练数据索引\n",
    "train_indexes = shuffie_indexes[test_size:]\n",
    "#测试数据特征x和标签y\n",
    "x_test = x[test_indexes]\n",
    "y_test = y[test_indexes]\n",
    "#训练数据特征x和标签y\n",
    "x_train = x[train_indexes]\n",
    "y_train = y[train_indexes]\n",
    "x_train.shape, y_train.shape"
   ]
  },
  {
   "cell_type": "markdown",
   "metadata": {},
   "source": [
    "#### 3.2拆分函数封装\n",
    "    将特征数据集X和对应的标签数量y，按一定的拆分比例test_ratio进行拆分"
   ]
  },
  {
   "cell_type": "code",
   "execution_count": null,
   "metadata": {},
   "outputs": [],
   "source": [
    "def train_test_split(x, y, ratio = 0.2, seed = None):\n",
    "    #将参数合法性进行断言\n",
    "    assert x.shape[0] == y.shape[0]\n",
    "    assert 0.0 <= ratio <= 1.0\n",
    "\n",
    "    \n",
    "    #将数据索引进行乱序\n",
    "    if seed:\n",
    "        np.random.seed(seed)\n",
    "    shuffie_indexes = np.random.permutation(len(x))\n",
    "    \n",
    "    test_size = int(len(x) * ratio)\n",
    "    #得出测试数据\n",
    "    x_test = x[shuffie_indexes[:test_size]]\n",
    "    y_test = y[shuffie_indexes[:test_size]]\n",
    "    \n",
    "    #得出训练数据\n",
    "    x_train = x[shuffie_indexes[test_size:]]\n",
    "    y_train = y[shuffie_indexes[test_size:]]    \n",
    "    \n",
    "    return x_train, y_train, x_test, y_test\n"
   ]
  },
  {
   "cell_type": "code",
   "execution_count": null,
   "metadata": {},
   "outputs": [],
   "source": [
    "x = iris.data\n",
    "y = iris.target\n",
    "x_train, y_train, x_test, y_test = train_test_split(x, y)"
   ]
  },
  {
   "cell_type": "code",
   "execution_count": null,
   "metadata": {},
   "outputs": [],
   "source": [
    "from sklearn.neighbors import KNeighborsClassifier\n",
    "#创建实例\n",
    "kNN_Classifier = KNeighborsClassifier(n_neighbors = 6)\n",
    "#拟合训练数据\n",
    "kNN_Classifier.fit(x_train, y_train)\n",
    "\n",
    "#预测测试数据\n",
    "test_predict = kNN_Classifier.predict(x_test)\n",
    "test_predict"
   ]
  },
  {
   "cell_type": "code",
   "execution_count": null,
   "metadata": {},
   "outputs": [],
   "source": [
    "y_test"
   ]
  },
  {
   "cell_type": "code",
   "execution_count": null,
   "metadata": {},
   "outputs": [],
   "source": [
    "sum(test_predict == y_test)"
   ]
  },
  {
   "cell_type": "code",
   "execution_count": null,
   "metadata": {},
   "outputs": [],
   "source": [
    "#预测合格率\n",
    "sum(test_predict == y_test) / len(y_test)"
   ]
  },
  {
   "cell_type": "markdown",
   "metadata": {},
   "source": [
    "### 2018-9-4"
   ]
  },
  {
   "cell_type": "markdown",
   "metadata": {},
   "source": []
  }
 ],
 "metadata": {
  "kernelspec": {
   "display_name": "Python 3",
   "language": "python",
   "name": "python3"
  },
  "language_info": {
   "codemirror_mode": {
    "name": "ipython",
    "version": 3
   },
   "file_extension": ".py",
   "mimetype": "text/x-python",
   "name": "python",
   "nbconvert_exporter": "python",
   "pygments_lexer": "ipython3",
   "version": "3.6.5"
  }
 },
 "nbformat": 4,
 "nbformat_minor": 2
}
