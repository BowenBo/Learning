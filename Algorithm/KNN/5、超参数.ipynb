{
 "cells": [
  {
   "cell_type": "code",
   "execution_count": 2,
   "metadata": {},
   "outputs": [],
   "source": [
    "import numpy as np\n",
    "from sklearn.neighbors import KNeighborsClassifier\n",
    "from sklearn.model_selection import train_test_split\n",
    "from sklearn.metrics import accuracy_score\n",
    "from sklearn import datasets"
   ]
  },
  {
   "cell_type": "code",
   "execution_count": 3,
   "metadata": {},
   "outputs": [],
   "source": [
    "digits = datasets.load_digits()\n",
    "X = digits.data\n",
    "y = digits.target"
   ]
  },
  {
   "cell_type": "code",
   "execution_count": 4,
   "metadata": {},
   "outputs": [],
   "source": [
    "X_train, X_test, y_train, y_test = train_test_split(X, y)"
   ]
  },
  {
   "cell_type": "code",
   "execution_count": 5,
   "metadata": {},
   "outputs": [],
   "source": [
    "KClass = KNeighborsClassifier(n_neighbors=6)"
   ]
  },
  {
   "cell_type": "code",
   "execution_count": 6,
   "metadata": {},
   "outputs": [
    {
     "data": {
      "text/plain": [
       "KNeighborsClassifier(algorithm='auto', leaf_size=30, metric='minkowski',\n",
       "           metric_params=None, n_jobs=1, n_neighbors=6, p=2,\n",
       "           weights='uniform')"
      ]
     },
     "execution_count": 6,
     "metadata": {},
     "output_type": "execute_result"
    }
   ],
   "source": [
    "KClass.fit(X_train, y_train)"
   ]
  },
  {
   "cell_type": "code",
   "execution_count": 7,
   "metadata": {},
   "outputs": [],
   "source": [
    "y_predict = KClass.predict(X_test)"
   ]
  },
  {
   "cell_type": "code",
   "execution_count": 8,
   "metadata": {},
   "outputs": [
    {
     "data": {
      "text/plain": [
       "0.9822222222222222"
      ]
     },
     "execution_count": 8,
     "metadata": {},
     "output_type": "execute_result"
    }
   ],
   "source": [
    "accuracy_score(y_test, y_predict)"
   ]
  },
  {
   "cell_type": "code",
   "execution_count": 9,
   "metadata": {},
   "outputs": [
    {
     "data": {
      "text/plain": [
       "0.9822222222222222"
      ]
     },
     "execution_count": 9,
     "metadata": {},
     "output_type": "execute_result"
    }
   ],
   "source": [
    "KClass.score(X_test, y_test)"
   ]
  },
  {
   "cell_type": "markdown",
   "metadata": {},
   "source": [
    "## 超参数和模型参数\n",
    "* 超参数：在算法运行前就需要决定的参数\n",
    "* 模型参数：算法过程中学习的属于模型的参数\n",
    "\n",
    "## 调参：寻找好的超参数"
   ]
  },
  {
   "cell_type": "markdown",
   "metadata": {},
   "source": [
    "## 1、寻找好的k"
   ]
  },
  {
   "cell_type": "code",
   "execution_count": 10,
   "metadata": {},
   "outputs": [
    {
     "name": "stdout",
     "output_type": "stream",
     "text": [
      "best_k =  2\n",
      "best_score =  0.9911111111111112\n"
     ]
    }
   ],
   "source": [
    "best_score = 0\n",
    "best_k = -1\n",
    "for k in range(1, 10):\n",
    "    knn_clf = KNeighborsClassifier(n_neighbors=k)\n",
    "    knn_clf.fit(X_train, y_train)\n",
    "#     y_predict = knn_clf.predict(X_test)\n",
    "    # 两种方式计算测试准确率\n",
    "#     score = accuracy_score(y_test, y_predict)\n",
    "    score = knn_clf.score(X_test, y_test)\n",
    "    if score > best_score:\n",
    "        best_score = score\n",
    "        best_k = k\n",
    "print(\"best_k = \", best_k)\n",
    "print(\"best_score = \", best_score)"
   ]
  },
  {
   "cell_type": "markdown",
   "metadata": {},
   "source": [
    "## 2、寻找最好的method\n",
    "### weights权重\n",
    "    * a、distance：欧拉距离\n",
    "    * b、uniform：曼哈顿距离"
   ]
  },
  {
   "cell_type": "code",
   "execution_count": 11,
   "metadata": {},
   "outputs": [
    {
     "name": "stdout",
     "output_type": "stream",
     "text": [
      "best_k =  1\n",
      "best_method =  uniform\n",
      "best_score =  0.9866666666666667\n",
      "CPU times: user 1.23 s, sys: 17.6 ms, total: 1.25 s\n",
      "Wall time: 1.28 s\n"
     ]
    }
   ],
   "source": [
    "# %%time\n",
    "best_score = 0.0\n",
    "best_method = ''\n",
    "best_k =-1\n",
    "for method in [\"uniform\", \"distance\"]:\n",
    "    for k in range(1, 10):\n",
    "        knn_clf = KNeighborsClassifier(n_neighbors=k, weights= method)\n",
    "        knn_clf.fit(X_train, y_train)\n",
    "        knn_clf.score(X_test, y_test)\n",
    "#         y_predict = knn_clf.predict(X_test)\n",
    "#         score = accuracy_score(y_test, y_predict)\n",
    "        if score > best_score:\n",
    "            best_score = score\n",
    "            best_k = k\n",
    "            best_method = method\n",
    "print(\"best_k = \", best_k)\n",
    "print(\"best_method = \", best_method)\n",
    "print(\"best_score = \", best_score)"
   ]
  },
  {
   "cell_type": "markdown",
   "metadata": {},
   "source": [
    "## 3、寻找最好的p\n",
    "### 明可夫斯基距离\n",
    "    * 当p=1时相当于曼哈顿距离\n",
    "    * 当p=2时相当于欧拉距离"
   ]
  },
  {
   "cell_type": "code",
   "execution_count": 12,
   "metadata": {},
   "outputs": [
    {
     "name": "stdout",
     "output_type": "stream",
     "text": [
      "best_k =  1\n",
      "best_p=  1\n",
      "best_score =  0.9866666666666667\n",
      "CPU times: user 3.03 s, sys: 32.1 ms, total: 3.06 s\n",
      "Wall time: 3.12 s\n"
     ]
    }
   ],
   "source": [
    "# %%time\n",
    "best_score = 0.0\n",
    "best_p = -1\n",
    "best_k =-1\n",
    "for k in range(1, 10):\n",
    "    for p in range(1, 6):\n",
    "        knn_clf = KNeighborsClassifier(n_neighbors=k, weights= \"distance\")\n",
    "        knn_clf.fit(X_train, y_train)\n",
    "        knn_clf.score(X_test, y_test)\n",
    "        if score > best_score:\n",
    "            best_score = score\n",
    "            best_k = k\n",
    "            best_p = p\n",
    "print(\"best_k = \", best_k)\n",
    "print(\"best_p= \", best_p)\n",
    "print(\"best_score = \", best_score)"
   ]
  },
  {
   "cell_type": "code",
   "execution_count": null,
   "metadata": {},
   "outputs": [],
   "source": []
  }
 ],
 "metadata": {
  "kernelspec": {
   "display_name": "Python 3",
   "language": "python",
   "name": "python3"
  },
  "language_info": {
   "codemirror_mode": {
    "name": "ipython",
    "version": 3
   },
   "file_extension": ".py",
   "mimetype": "text/x-python",
   "name": "python",
   "nbconvert_exporter": "python",
   "pygments_lexer": "ipython3",
   "version": "3.6.5"
  }
 },
 "nbformat": 4,
 "nbformat_minor": 2
}
