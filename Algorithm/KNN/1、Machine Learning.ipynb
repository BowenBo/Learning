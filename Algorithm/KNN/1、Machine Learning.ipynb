{
 "cells": [
  {
   "cell_type": "markdown",
   "metadata": {},
   "source": [
    "# Machine Learning"
   ]
  },
  {
   "cell_type": "markdown",
   "metadata": {},
   "source": [
    "# 一、基础知识\n",
    "## 机器学习：\n",
    "输入大量的学习资料（数据集），喂给机器学习算法，输入样例模型（函数f（x）），最后输出结果\n",
    "    特征工程\n",
    "    算法\n",
    "## 数据\n",
    "    1 样本sample-行-行向量\n",
    "    2 特征feature-列-列向量\n",
    "        特征不仅可以是拥有一定的语义，可以是很抽象的\n",
    "    3 标记/答案\n",
    "    4 特征空间feature space，特征在一个n维空间中的分布\n",
    "        分类任务就是在特征空间中进行切分\n",
    "        图像：每一个像素点就是一个特征\n",
    "## 机器学习的基本任务\n",
    "    1、分类任务\n",
    "    最终结果是一个类别\n",
    "        * 二分类，二选一\n",
    "        * 多分类，多选一\n",
    "        * 多标签分类\n",
    "    2、回归任务\n",
    "    最终结果是一个连续数字的值\n",
    "    很多时候回归任务可以简化为分类任务\n",
    "## 机器学习方法分类1（监督学习，非监督学习，半监督学习，增强学习）\n",
    "    * 监督学习：给机器的训练数据拥有“标记”或“答案”（既有数据的特征，也有数据的标记）\n",
    "    * 非监督学习：数据没有“标记”或“答案”\n",
    "        聚类分析（分类）\n",
    "        对数据进行降维处理（特征提取，对无关特征去除）\n",
    "            意义：方便可视化\n",
    "        特征压缩（PCA）\n",
    "        异常检测\n",
    "     * 半监督学习：数据一部分有标记，一部分没有标记\n",
    "     * 增强学习\n",
    "      根据周围环境的情况采取行动，根据采取行动的结果，学习行动方式。\n",
    "          无人驾驶\n",
    "          机器人\n",
    "## 机器学习分类2\n",
    "    * 批量学习：用批量数据确定算法、确定模型（模型会变得不适用，需要重新批量学习）\n",
    "    * 在线学习：根据结果优化算法，新的数据（不正常时）带来不好的模型变化，需要加强对数据的监控\n",
    "    * 参数学习：一旦根据原数据集学习到了参数后，就能确定规律，就不再需要原数据集\n",
    "    * 非参数学习：不对模型进行过多的假设，非参数不等于没参数\n",
    "## 机器学习相关的“哲学”思考\n",
    "    数据即算法？/算法为王？\n",
    "        数据确实非常重要\n",
    "        短时间内是数据驱动\n",
    "    "
   ]
  },
  {
   "cell_type": "markdown",
   "metadata": {},
   "source": [
    "## jupyter notebook 魔法命令\n",
    "    * %run 路径/文件：调用本地的文件\n",
    "    * % timeit  %%timeit %time %%time测试时间（对某个命令执行1000000次，取平均值），%%测试代码段"
   ]
  },
  {
   "cell_type": "code",
   "execution_count": 2,
   "metadata": {},
   "outputs": [
    {
     "name": "stdout",
     "output_type": "stream",
     "text": [
      "CPU times: user 7 µs, sys: 1e+03 ns, total: 8 µs\n",
      "Wall time: 11.2 µs\n"
     ]
    }
   ],
   "source": [
    "%time L = (i**2 for i in range(100))"
   ]
  }
 ],
 "metadata": {
  "kernelspec": {
   "display_name": "Python 3",
   "language": "python",
   "name": "python3"
  },
  "language_info": {
   "codemirror_mode": {
    "name": "ipython",
    "version": 3
   },
   "file_extension": ".py",
   "mimetype": "text/x-python",
   "name": "python",
   "nbconvert_exporter": "python",
   "pygments_lexer": "ipython3",
   "version": "3.6.5"
  }
 },
 "nbformat": 4,
 "nbformat_minor": 2
}
