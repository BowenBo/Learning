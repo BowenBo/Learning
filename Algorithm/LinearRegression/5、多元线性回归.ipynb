{
 "cells": [
  {
   "cell_type": "markdown",
   "metadata": {},
   "source": [
    "# 多元线性回归"
   ]
  },
  {
   "cell_type": "markdown",
   "metadata": {},
   "source": [
    "* 线性关系：$y = \\theta_0 + \\theta_1x_1 + \\theta_2x_2 + \\theta_nx_n$\n",
    "* 参数：$\\theta_0, \\theta_1, \\theta_2, ···\\theta_n$\n",
    "   * 截距 ：$\\theta_0$\n",
    "   * 系数 ：$\\theta_1, \\theta_2, ···\\theta_n$\n",
    "\n",
    "$$\\Theta = \n",
    "\\begin{Bmatrix}\n",
    "\\theta_0\\\\\n",
    "\\theta_1\\\\\n",
    "\\vdots\\\\\n",
    "\\theta_i\n",
    "\\end{Bmatrix}\n",
    "$$\n",
    "* 特征：$$\n",
    "X=\n",
    "\\begin{Bmatrix}\n",
    "X_1^{(1)}&X_2^{(1)}&\\cdots&X_n^{(1)}\\\\\n",
    "X_1^{(2)}&X_2^{(2)}&\\cdots&X_n^{(2)}\\\\\n",
    "\\cdots&&&\\cdots\\\\\n",
    "X_1^{(i)}&X_2^{(i)}&\\cdots&X_n^{(i)}\n",
    "\\end{Bmatrix}\n",
    "$$\n",
    "\n",
    "* $X_b$，在X最前面增加一列横为1的X0，用于与$\\theta_0$相乘\n",
    "\n",
    "$$\n",
    "X_b = \n",
    "\\begin{Bmatrix}\n",
    "X_0^{(1)}&X_1^{(1)}&X_2^{(1)}&\\cdots&X_n^{(1)}\\\\\n",
    "X_0^{(2)}&X_1^{(2)}&X_2^{(2)}&\\cdots&X_n^{(2)}\\\\\n",
    "\\cdots&&&&\\cdots\\\\\n",
    "X_0^{(i)}&X_1^{(i)}&X_2^{(i)}&\\cdots&X_n^{(i)}\n",
    "\\end{Bmatrix}\n",
    "$$\n",
    "\n",
    "* 线性关系的向量表达形式\n",
    "$$\n",
    "\\hat{y} = X_b · \\Theta\n",
    "$$\n",
    "\n",
    "* 目标\n",
    "\n",
    "   * 使$\\sum{(y^{(i)} - \\hat{y}^{(i)})^2}$尽可能小 \n",
    "   * 向量表达形式:使$(y-X_b·\\Theta)^T(y-X_b·\\Theta)$尽可能小\n",
    "* 正规方差解Normal Equation\n",
    "   * 问题：时间复杂度高：$O(n^3)$(优化能达到$O(n^{2.4})$)\n",
    "$$\n",
    "\\Theta = (X_b^TX_b)^{-1}X_b^Ty\n",
    "$$\n"
   ]
  },
  {
   "cell_type": "code",
   "execution_count": 46,
   "metadata": {},
   "outputs": [],
   "source": [
    "%run lib/linearregression"
   ]
  },
  {
   "cell_type": "code",
   "execution_count": 47,
   "metadata": {},
   "outputs": [],
   "source": [
    "from sklearn import datasets"
   ]
  },
  {
   "cell_type": "code",
   "execution_count": 48,
   "metadata": {},
   "outputs": [],
   "source": [
    "boston = datasets.load_boston()\n",
    "X = boston.data\n",
    "y = boston.target\n",
    "X = X[y < 50]\n",
    "y = y[y < 50]"
   ]
  },
  {
   "cell_type": "code",
   "execution_count": 49,
   "metadata": {},
   "outputs": [],
   "source": [
    "from sklearn.model_selection import train_test_split"
   ]
  },
  {
   "cell_type": "code",
   "execution_count": 50,
   "metadata": {},
   "outputs": [],
   "source": [
    "X_train, X_test, y_train, y_test = train_test_split(X, y)"
   ]
  },
  {
   "cell_type": "code",
   "execution_count": 51,
   "metadata": {},
   "outputs": [
    {
     "data": {
      "text/plain": [
       "(490, 13)"
      ]
     },
     "execution_count": 51,
     "metadata": {},
     "output_type": "execute_result"
    }
   ],
   "source": [
    "X.shape"
   ]
  },
  {
   "cell_type": "code",
   "execution_count": 52,
   "metadata": {},
   "outputs": [],
   "source": [
    "#自建的回归类\n",
    "from lib import linearregression"
   ]
  },
  {
   "cell_type": "markdown",
   "metadata": {},
   "source": [
    "* 建立类实例"
   ]
  },
  {
   "cell_type": "code",
   "execution_count": 53,
   "metadata": {},
   "outputs": [],
   "source": [
    "reg = LinearRegression()"
   ]
  },
  {
   "cell_type": "markdown",
   "metadata": {},
   "source": [
    "* 实例拟合训练数据集，计算系数和截距"
   ]
  },
  {
   "cell_type": "code",
   "execution_count": 54,
   "metadata": {},
   "outputs": [
    {
     "data": {
      "text/plain": [
       "linearregression"
      ]
     },
     "execution_count": 54,
     "metadata": {},
     "output_type": "execute_result"
    }
   ],
   "source": [
    "reg.fit_normal(X_train, y_train)"
   ]
  },
  {
   "cell_type": "markdown",
   "metadata": {},
   "source": [
    "* 计算预测"
   ]
  },
  {
   "cell_type": "code",
   "execution_count": 55,
   "metadata": {},
   "outputs": [
    {
     "data": {
      "text/plain": [
       "array([19.81738102, 30.37263029, 10.09167814, 15.81900162, 18.43888527,\n",
       "       25.72163117, 24.00542704, 25.73569286, 37.53003554, 16.03659048,\n",
       "       10.82771493, 27.82950918, 21.32951437, 17.46182283, 17.86347411,\n",
       "       22.4422624 , 17.67024953, 26.92420225,  9.04326954, 20.01260542,\n",
       "       24.91973656, 26.98899625, 25.50067576, 30.72277912, 19.05317021,\n",
       "       36.11044336, 20.81592698, 14.40664662, 25.71331414, 17.29310014,\n",
       "       26.90131185, 18.10858551, 22.7251759 , 20.06535413, 25.10318667,\n",
       "       15.70269694, 23.29277343, 26.01539282, 29.48998936, 30.03040757,\n",
       "       23.61414266, 12.85739261, 26.40217487, 10.92652752, 21.60545459,\n",
       "       25.31819341, 22.14824722, 15.40663952, 29.40416637, 16.48414967,\n",
       "       13.4338411 , 13.22955304, 32.34714502, 14.32228204, 22.05084074,\n",
       "       21.67743979, 27.09292259, 32.56318831, 32.26601607, 25.08782424,\n",
       "       28.32958294, 21.68227495, 21.33466596, 32.64255116, 17.73874153,\n",
       "       22.45128567, 22.39249891, 34.48436499, 24.02484103, 14.72149461,\n",
       "       18.40173462, 32.27556004, 34.87220791, 16.43308353, 23.12188722,\n",
       "       16.70054005, 29.10239344, 25.38258355, 19.33063993, 27.59547241,\n",
       "       27.85187209,  7.63063623, 16.51299602, 20.28763426, 19.50442105,\n",
       "       19.033234  , 28.03164216, 28.86940522, 16.97249329, 33.80379249,\n",
       "        8.3697752 , 18.79751312, 18.34040861, 22.24073789, 23.74402515,\n",
       "       13.69951436, 32.18398004, 12.7175793 , 13.94340677, 28.7911165 ,\n",
       "       17.40280113, 17.93152882, 16.65511059, 28.28518732, 17.72069069,\n",
       "       33.1965399 , 35.14844568, 25.99738999, 20.62164464, 24.40295147,\n",
       "       29.91022909, 26.92913045, 24.12104841, 37.24563013, 25.97054796,\n",
       "       20.78273379, 29.04072343, 17.59038815, 24.64399223, 17.00769221,\n",
       "       20.31535874, 19.94764517, 13.71006472])"
      ]
     },
     "execution_count": 55,
     "metadata": {},
     "output_type": "execute_result"
    }
   ],
   "source": [
    "reg.predict(X_test)"
   ]
  },
  {
   "cell_type": "markdown",
   "metadata": {},
   "source": [
    "* 预测准确率"
   ]
  },
  {
   "cell_type": "code",
   "execution_count": 56,
   "metadata": {},
   "outputs": [
    {
     "data": {
      "text/plain": [
       "1.0"
      ]
     },
     "execution_count": 56,
     "metadata": {},
     "output_type": "execute_result"
    }
   ],
   "source": [
    "reg.score(X_test, reg.predict(X_test))"
   ]
  }
 ],
 "metadata": {
  "kernelspec": {
   "display_name": "Python 3",
   "language": "python",
   "name": "python3"
  },
  "language_info": {
   "codemirror_mode": {
    "name": "ipython",
    "version": 3
   },
   "file_extension": ".py",
   "mimetype": "text/x-python",
   "name": "python",
   "nbconvert_exporter": "python",
   "pygments_lexer": "ipython3",
   "version": "3.7.0"
  }
 },
 "nbformat": 4,
 "nbformat_minor": 2
}
