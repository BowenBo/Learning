{
 "cells": [
  {
   "cell_type": "markdown",
   "metadata": {},
   "source": [
    "# 线性回归算法简介2018-9-8\n",
    "* 解决回归问题\n",
    "* 思想简单，实现容易\n",
    "* 许多强大的非线性模型的基础\n",
    "* 结果具有很好的解释性\n",
    "* 蕴含机器学习中的很多重要思想"
   ]
  },
  {
   "cell_type": "markdown",
   "metadata": {},
   "source": [
    "# 什么是线性回归算法\n",
    "* 假设样本输出标记（如房屋价格）与样本特征（如房屋面积）存在线性的关系\n",
    "* 寻找一条直线，最大程度的拟合样本特征和样本输出标记之间的关系\n",
    "\n",
    "\n",
    "# 分类问题与回归问题：\n",
    "**分类问题的横轴与纵轴均为特征数据，回归问题中则纵轴为输出标记数据**\n",
    "\n",
    "# 简单线性回归、多元线性回归\n",
    "* 当样本特征为1个时，回归问题为简单线性回归，关系应为y = ax + b，预测值为$\\hat{y}^{(i)} = ax^{(i)} + b$。真值$y^{(i)}$和预测值$\\hat{y}^{(i)}$存在一定差距(误差），目标是使差距尽可能小\n",
    "* 当样本特征有多个时为多元线性回归\n",
    "\n",
    "\n",
    "# 差距的表达函数\n",
    "\n",
    "* 两者之差，不合理 $$y^{(i)}-\\hat{y}^{(i)}$$\n",
    "\n",
    "\n",
    "* 两者差的绝对值，不是处处可导，不合理$$|y^{(i)}-\\hat{y}^{(i)}|$$\n",
    "\n",
    "\n",
    "* 较好$$(y^{(i)}-\\hat{y}^{(i)})^{2}$$\n",
    "\n",
    "\n",
    "   * 考虑所有样本：$$\\sum_{i=1}^{m}(y^{(i)}-\\hat{y}^{(i)})^{2}$$\n",
    "\n",
    "# 简单线性回归目标\n",
    "\n",
    "\n",
    "使$\\sum_{i=1}^{m}(y^{(i)}-\\hat{y}^{(i)})^{2}$尽可能小\n",
    "\n",
    "\n",
    "由于$\\hat{y}^{(i)} = ax^{(i)} + b$\n",
    "\n",
    "\n",
    "### 即目标：找到a和b，使$\\sum\\limits_{i=1}^{m}(y^{(i)}-ax^{(i)} - b)^{2}$尽可能小\n",
    "\n",
    "\n",
    "这是一个典型的最小二乘法问题：最小化误差的平方和\n",
    "\n",
    "## a 、b结果（求导）\n",
    "\n",
    "\n",
    "$$a = \\frac{\\sum\\limits_{i=1}^{m}{(x^{(i)} - \\overline{x})(y^{(i)} - \\overline{y})}}{\\sum\\limits_{i=1}^{m}(x^{(i)} - \\overline{x})^{2}}$$\n",
    "\n",
    "\n",
    "$$b = \\overline{y} - a\\overline{x}$$"
   ]
  },
  {
   "cell_type": "markdown",
   "metadata": {},
   "source": [
    "# 一种机器学习算法的基本思路\n",
    "## 几乎所有的参数学习算法都是这样的思路：\n",
    "* 通过分析问题，确定问题的损失函数或效用函数\n",
    "* 通过最优化损失函数或效用函数，获得机器学习模型\n",
    "## 最优化原理\n",
    "* 凸优化"
   ]
  },
  {
   "cell_type": "markdown",
   "metadata": {},
   "source": [
    "# 最小二乘法"
   ]
  },
  {
   "cell_type": "markdown",
   "metadata": {},
   "source": [
    "### 目标：找到a和b，使$\\sum_{i=1}^{m}(y^{(i)}-ax^{(i)} - b)^{2}$尽可能小\n",
    "\n",
    "### J(a,b)=$\\sum_{i=1}^{m}(y^{(i)}-ax^{(i)} - b)^{2}$表示损失函数"
   ]
  },
  {
   "cell_type": "code",
   "execution_count": null,
   "metadata": {},
   "outputs": [],
   "source": []
  }
 ],
 "metadata": {
  "kernelspec": {
   "display_name": "Python 3",
   "language": "python",
   "name": "python3"
  },
  "language_info": {
   "codemirror_mode": {
    "name": "ipython",
    "version": 3
   },
   "file_extension": ".py",
   "mimetype": "text/x-python",
   "name": "python",
   "nbconvert_exporter": "python",
   "pygments_lexer": "ipython3",
   "version": "3.6.5"
  }
 },
 "nbformat": 4,
 "nbformat_minor": 2
}
