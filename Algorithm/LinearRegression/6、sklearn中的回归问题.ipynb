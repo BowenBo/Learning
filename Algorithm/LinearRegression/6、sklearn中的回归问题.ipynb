{
 "cells": [
  {
   "cell_type": "markdown",
   "metadata": {},
   "source": [
    "# scikit-learn中的回归问题和knn回归"
   ]
  },
  {
   "cell_type": "code",
   "execution_count": 34,
   "metadata": {},
   "outputs": [],
   "source": [
    "import numpy as np\n",
    "from sklearn import datasets\n",
    "import matplotlib.pyplot as plt"
   ]
  },
  {
   "cell_type": "markdown",
   "metadata": {},
   "source": [
    "## 1、导入数据集"
   ]
  },
  {
   "cell_type": "code",
   "execution_count": 35,
   "metadata": {},
   "outputs": [],
   "source": [
    "boston = datasets.load_boston()\n",
    "X = boston.data\n",
    "y = boston.target"
   ]
  },
  {
   "cell_type": "code",
   "execution_count": 36,
   "metadata": {},
   "outputs": [
    {
     "data": {
      "text/plain": [
       "array([[6.3200e-03, 1.8000e+01, 2.3100e+00, ..., 1.5300e+01, 3.9690e+02,\n",
       "        4.9800e+00],\n",
       "       [2.7310e-02, 0.0000e+00, 7.0700e+00, ..., 1.7800e+01, 3.9690e+02,\n",
       "        9.1400e+00],\n",
       "       [2.7290e-02, 0.0000e+00, 7.0700e+00, ..., 1.7800e+01, 3.9283e+02,\n",
       "        4.0300e+00],\n",
       "       ...,\n",
       "       [6.0760e-02, 0.0000e+00, 1.1930e+01, ..., 2.1000e+01, 3.9690e+02,\n",
       "        5.6400e+00],\n",
       "       [1.0959e-01, 0.0000e+00, 1.1930e+01, ..., 2.1000e+01, 3.9345e+02,\n",
       "        6.4800e+00],\n",
       "       [4.7410e-02, 0.0000e+00, 1.1930e+01, ..., 2.1000e+01, 3.9690e+02,\n",
       "        7.8800e+00]])"
      ]
     },
     "execution_count": 36,
     "metadata": {},
     "output_type": "execute_result"
    }
   ],
   "source": [
    "X"
   ]
  },
  {
   "cell_type": "code",
   "execution_count": 37,
   "metadata": {},
   "outputs": [
    {
     "data": {
      "text/plain": [
       "<matplotlib.collections.PathCollection at 0x10c1c49e8>"
      ]
     },
     "execution_count": 37,
     "metadata": {},
     "output_type": "execute_result"
    },
    {
     "data": {
      "image/png": "[encoded data removed]",
      "text/plain": [
       "<Figure size 432x288 with 1 Axes>"
      ]
     },
     "metadata": {},
     "output_type": "display_data"
    }
   ],
   "source": [
    "plt.scatter(X[:,5], y)"
   ]
  },
  {
   "cell_type": "markdown",
   "metadata": {},
   "source": [
    "## 2、异常数据清理"
   ]
  },
  {
   "cell_type": "code",
   "execution_count": 38,
   "metadata": {},
   "outputs": [],
   "source": [
    "X = X[y<50]\n",
    "y = y[y<50]"
   ]
  },
  {
   "cell_type": "code",
   "execution_count": 39,
   "metadata": {},
   "outputs": [
    {
     "data": {
      "text/plain": [
       "(490, 13)"
      ]
     },
     "execution_count": 39,
     "metadata": {},
     "output_type": "execute_result"
    }
   ],
   "source": [
    "X.shape"
   ]
  },
  {
   "cell_type": "markdown",
   "metadata": {},
   "source": [
    "## 3、数据分割train_test_split"
   ]
  },
  {
   "cell_type": "code",
   "execution_count": 40,
   "metadata": {},
   "outputs": [],
   "source": [
    "from sklearn.model_selection import train_test_split"
   ]
  },
  {
   "cell_type": "code",
   "execution_count": 41,
   "metadata": {},
   "outputs": [],
   "source": [
    "X_train, X_test, y_train, y_test = train_test_split(X, y, random_state = 666)"
   ]
  },
  {
   "cell_type": "markdown",
   "metadata": {},
   "source": [
    "## 4、sklearn中的线性回归"
   ]
  },
  {
   "cell_type": "code",
   "execution_count": 42,
   "metadata": {},
   "outputs": [],
   "source": [
    "from sklearn.linear_model import LinearRegression\n",
    "lin_reg = LinearRegression()"
   ]
  },
  {
   "cell_type": "markdown",
   "metadata": {},
   "source": [
    "### 4.1、fit\n",
    "传入X_train y_train计算系数coef_、截距.intercept_"
   ]
  },
  {
   "cell_type": "code",
   "execution_count": 43,
   "metadata": {},
   "outputs": [
    {
     "data": {
      "text/plain": [
       "LinearRegression(copy_X=True, fit_intercept=True, n_jobs=1, normalize=False)"
      ]
     },
     "execution_count": 43,
     "metadata": {},
     "output_type": "execute_result"
    }
   ],
   "source": [
    "lin_reg.fit(X_train, y_train)"
   ]
  },
  {
   "cell_type": "markdown",
   "metadata": {},
   "source": [
    "* 截距.intercept_"
   ]
  },
  {
   "cell_type": "code",
   "execution_count": 44,
   "metadata": {},
   "outputs": [
    {
     "data": {
      "text/plain": [
       "32.64566083965351"
      ]
     },
     "execution_count": 44,
     "metadata": {},
     "output_type": "execute_result"
    }
   ],
   "source": [
    "lin_reg.intercept_"
   ]
  },
  {
   "cell_type": "markdown",
   "metadata": {},
   "source": [
    "* 系数.coef_"
   ]
  },
  {
   "cell_type": "code",
   "execution_count": 45,
   "metadata": {},
   "outputs": [
    {
     "data": {
      "text/plain": [
       "array([-1.14235739e-01,  3.12783163e-02, -4.30926281e-02, -9.16425531e-02,\n",
       "       -1.09940036e+01,  3.49155727e+00, -1.40778005e-02, -1.06270960e+00,\n",
       "        2.45307516e-01, -1.23179738e-02, -8.80618320e-01,  8.43243544e-03,\n",
       "       -3.99667727e-01])"
      ]
     },
     "execution_count": 45,
     "metadata": {},
     "output_type": "execute_result"
    }
   ],
   "source": [
    "lin_reg.coef_"
   ]
  },
  {
   "cell_type": "markdown",
   "metadata": {},
   "source": [
    "### 4.2、预测predict(X_test)"
   ]
  },
  {
   "cell_type": "code",
   "execution_count": 46,
   "metadata": {},
   "outputs": [
    {
     "data": {
      "text/plain": [
       "array([18.06720061, 25.38842052, 12.88637643, 32.90835204, 24.45397988,\n",
       "        2.30708724, 26.64169324, 31.60871402, 14.04669932, 24.51624441,\n",
       "       14.80334503, 10.57965738, 30.04628378, 16.39172915, 23.89512828,\n",
       "       25.39852591, 18.8543776 , 23.87690579, 28.78827968, 27.02022135,\n",
       "       12.76509984, 27.00275212, 26.14846529, 22.86315467, 20.89563046,\n",
       "       32.05888636, 14.79193377, 20.41277625, 12.9193449 , 30.15501477,\n",
       "       35.54985439,  5.26900466, 13.14886325, 35.86197895, 16.03765405,\n",
       "       21.27787584, 12.60030385, 29.36848015, 27.49792281, 24.00066354,\n",
       "       14.13586558, 23.43977185, 11.17683708, 22.31129063, 18.58987771,\n",
       "       16.41995801, 24.9447416 , 33.28366331, 19.11389151, 27.22704584,\n",
       "       18.07947567, 14.92767526, 25.22396514, 16.21008419, 21.65562831,\n",
       "       16.22903694, 24.0692956 , 11.74802373, 27.94364395, 30.83194969,\n",
       "       19.71563014, 24.79766319, 25.89834136, 12.26941076, 16.75583436,\n",
       "       27.25274785, 22.47751458, 22.1732599 , 31.48171107, 13.99757898,\n",
       "       16.60944226, 25.05518084, 25.39135505, 18.89916858, 17.31830813,\n",
       "       27.818915  , 23.81506658, 14.55959143, 11.20253679, 30.893393  ,\n",
       "       33.90802559, 17.63463601, 18.85001619, 17.25992787, 24.88949889,\n",
       "       23.52550124, 24.64562979, 26.07988495, 25.10242512, 20.21419775,\n",
       "       24.74897193, 33.40375747, 36.03565376, 22.9408898 , 19.00924108,\n",
       "       31.27774103, 35.52021652, 20.95930546, 16.80761865, 17.14553979,\n",
       "       31.41649732, 15.18985792, 33.19102141, 23.07739131, 16.70964715,\n",
       "       14.89199893, 24.5459085 , 18.48103556, 17.4866585 , 33.33045223,\n",
       "       21.54562283, 14.04783893,  6.5983249 , 18.22363022, 32.51667485,\n",
       "       16.88292373, 13.17973987, 21.81210123, 29.46713334, 15.80539504,\n",
       "       28.00696954, 18.33156369,  7.27341238])"
      ]
     },
     "execution_count": 46,
     "metadata": {},
     "output_type": "execute_result"
    }
   ],
   "source": [
    "lin_reg.predict(X_test)"
   ]
  },
  {
   "cell_type": "markdown",
   "metadata": {},
   "source": [
    "### 4.3、预测准确率.score"
   ]
  },
  {
   "cell_type": "code",
   "execution_count": 47,
   "metadata": {},
   "outputs": [
    {
     "data": {
      "text/plain": [
       "0.80089161995191"
      ]
     },
     "execution_count": 47,
     "metadata": {},
     "output_type": "execute_result"
    }
   ],
   "source": [
    "lin_reg.score(X_test, y_test)"
   ]
  },
  {
   "cell_type": "markdown",
   "metadata": {},
   "source": [
    "## 5、KNN Regressor用knn解决回归问题"
   ]
  },
  {
   "cell_type": "markdown",
   "metadata": {},
   "source": [
    "### 5.1、建立KNN类实例KNeighborsRegressor()"
   ]
  },
  {
   "cell_type": "code",
   "execution_count": 48,
   "metadata": {},
   "outputs": [],
   "source": [
    "from sklearn.neighbors import  KNeighborsRegressor\n",
    "knn_reg = KNeighborsRegressor()"
   ]
  },
  {
   "cell_type": "markdown",
   "metadata": {},
   "source": [
    "### 5.2、实例拟合训练数据fit(X_train, y_train)"
   ]
  },
  {
   "cell_type": "code",
   "execution_count": 49,
   "metadata": {},
   "outputs": [
    {
     "data": {
      "text/plain": [
       "KNeighborsRegressor(algorithm='auto', leaf_size=30, metric='minkowski',\n",
       "          metric_params=None, n_jobs=1, n_neighbors=5, p=2,\n",
       "          weights='uniform')"
      ]
     },
     "execution_count": 49,
     "metadata": {},
     "output_type": "execute_result"
    }
   ],
   "source": [
    "knn_reg.fit(X_train, y_train)"
   ]
  },
  {
   "cell_type": "markdown",
   "metadata": {},
   "source": [
    "### 5.3、预测predict（X_test）"
   ]
  },
  {
   "cell_type": "code",
   "execution_count": 50,
   "metadata": {},
   "outputs": [
    {
     "data": {
      "text/plain": [
       "array([18.36, 31.62, 10.86, 33.14, 22.34,  8.74, 28.18, 34.74, 16.4 ,\n",
       "       32.42, 16.24, 18.7 , 23.04, 15.4 , 21.86, 28.5 , 15.6 , 22.  ,\n",
       "       27.08, 28.52, 10.26, 24.34, 24.22, 32.32, 22.34, 24.96, 19.24,\n",
       "       23.48, 10.86, 24.54, 37.16, 11.86, 11.66, 34.1 , 19.12, 18.94,\n",
       "       10.4 , 23.62, 19.06, 19.22, 12.82, 25.66, 16.5 , 24.64, 24.56,\n",
       "       15.76, 24.8 , 37.16, 20.  , 21.96, 18.48, 10.26, 26.02, 19.22,\n",
       "       24.8 , 28.5 , 24.16, 17.52, 23.5 , 34.74, 19.04, 26.2 , 22.3 ,\n",
       "       10.36, 13.68, 24.76, 20.68, 21.46, 27.08, 11.2 , 16.8 , 19.06,\n",
       "       19.28, 20.52, 12.04, 20.9 , 21.82, 17.68, 15.52, 28.7 , 19.9 ,\n",
       "       21.28, 20.52, 16.6 , 28.42, 20.56, 23.42, 21.84, 27.42, 17.86,\n",
       "       31.62, 29.94, 32.44, 24.24, 37.16, 31.82, 34.74, 23.5 , 12.22,\n",
       "       17.22, 31.98, 17.8 , 28.64, 19.88, 16.4 , 19.14, 20.26, 21.6 ,\n",
       "       22.  , 37.16, 22.16, 26.42,  8.84, 21.76, 34.74, 12.64, 21.88,\n",
       "       20.36, 24.96, 10.52, 31.98, 16.4 , 14.26])"
      ]
     },
     "execution_count": 50,
     "metadata": {},
     "output_type": "execute_result"
    }
   ],
   "source": [
    "knn_reg.predict(X_test)"
   ]
  },
  {
   "cell_type": "markdown",
   "metadata": {},
   "source": [
    "### 5.4、准确率score"
   ]
  },
  {
   "cell_type": "code",
   "execution_count": 51,
   "metadata": {},
   "outputs": [
    {
     "data": {
      "text/plain": [
       "0.602674505080953"
      ]
     },
     "execution_count": 51,
     "metadata": {},
     "output_type": "execute_result"
    }
   ],
   "source": [
    "knn_reg.score(X_test, y_test)"
   ]
  }
 ],
 "metadata": {
  "kernelspec": {
   "display_name": "Python 3",
   "language": "python",
   "name": "python3"
  },
  "language_info": {
   "codemirror_mode": {
    "name": "ipython",
    "version": 3
   },
   "file_extension": ".py",
   "mimetype": "text/x-python",
   "name": "python",
   "nbconvert_exporter": "python",
   "pygments_lexer": "ipython3",
   "version": "3.6.5"
  }
 },
 "nbformat": 4,
 "nbformat_minor": 2
}
