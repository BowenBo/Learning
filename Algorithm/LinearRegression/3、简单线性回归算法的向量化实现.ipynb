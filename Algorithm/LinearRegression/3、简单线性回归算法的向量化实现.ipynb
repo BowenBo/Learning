{
 "cells": [
  {
   "cell_type": "markdown",
   "metadata": {},
   "source": [
    "## 向量化运算\n",
    "对于向量w和向量v\n",
    "\n",
    "$w = (w^{(1)}, w^{(2)}, w^{(3)}, ···w^{(i)})$\n",
    "\n",
    "\n",
    "$v = (v^{(1)}, v^{(2)}, v^{(3)}, ···v^{(i)})$\n",
    "\n",
    "\n",
    "$\\sum\\limits_{i=1}^{m}w^{(i)}·v^{(i)}$ = $w · v$\n",
    "\n",
    "这里的乘采用numpy中的点乘$w.dot(v)$"
   ]
  },
  {
   "cell_type": "markdown",
   "metadata": {},
   "source": [
    "### 使用numpy向量化运算比for循环计算速度要快很多"
   ]
  },
  {
   "cell_type": "code",
   "execution_count": 7,
   "metadata": {},
   "outputs": [],
   "source": [
    "import numpy as np\n",
    "import matplotlib.pyplot as plt\n",
    "x = np.array([1, 2, 3, 4, 5])\n",
    "y = np.array([1, 3, 2, 3, 5])\n",
    "#导入类\n",
    "%run lib/simplelinearregression"
   ]
  },
  {
   "cell_type": "code",
   "execution_count": 12,
   "metadata": {},
   "outputs": [
    {
     "data": {
      "text/plain": [
       "<matplotlib.collections.PathCollection at 0x10bfe3710>"
      ]
     },
     "execution_count": 12,
     "metadata": {},
     "output_type": "execute_result"
    },
    {
     "data": {
      "image/png": "[encoded data removed]",
      "text/plain": [
       "<Figure size 432x288 with 1 Axes>"
      ]
     },
     "metadata": {},
     "output_type": "display_data"
    }
   ],
   "source": [
    "#实例化类\n",
    "slr1 = SimpleLinearRegression2()\n",
    "#实例拟合fit（）\n",
    "slr1.fit(x, y)\n",
    "y_predict = slr1.predict(x)\n",
    "y_hat = slr1.a_ * x + slr1.b_\n",
    "plt.scatter(x, y)\n",
    "plt.plot(x, y_hat, color = 'b')\n",
    "plt.scatter(x, y_predict, color = 'r')"
   ]
  },
  {
   "cell_type": "code",
   "execution_count": 15,
   "metadata": {},
   "outputs": [
    {
     "data": {
      "text/plain": [
       "(0.8, 0.39999999999999947)"
      ]
     },
     "execution_count": 15,
     "metadata": {},
     "output_type": "execute_result"
    }
   ],
   "source": [
    "slr1.a_, slr1.b_"
   ]
  },
  {
   "cell_type": "markdown",
   "metadata": {},
   "source": [
    "## 怎么评价回归问题算法accuracy评价？"
   ]
  },
  {
   "cell_type": "code",
   "execution_count": null,
   "metadata": {},
   "outputs": [],
   "source": []
  }
 ],
 "metadata": {
  "kernelspec": {
   "display_name": "Python 3",
   "language": "python",
   "name": "python3"
  },
  "language_info": {
   "codemirror_mode": {
    "name": "ipython",
    "version": 3
   },
   "file_extension": ".py",
   "mimetype": "text/x-python",
   "name": "python",
   "nbconvert_exporter": "python",
   "pygments_lexer": "ipython3",
   "version": "3.6.5"
  }
 },
 "nbformat": 4,
 "nbformat_minor": 2
}
