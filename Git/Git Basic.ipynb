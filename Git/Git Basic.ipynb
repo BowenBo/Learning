{
 "cells": [
  {
   "cell_type": "markdown",
   "metadata": {},
   "source": [
    "# 一、Git分布式版本控制简介"
   ]
  },
  {
   "cell_type": "markdown",
   "metadata": {},
   "source": [
    "## 版本控制\n",
    "* 协同修改\n",
    "* 数据备份\n",
    "* 版本管理\n",
    "* 权限控制\n",
    "* 分支管理"
   ]
  },
  {
   "cell_type": "markdown",
   "metadata": {},
   "source": [
    "* 使用版本控制思想管理内容迭代\n",
    "   * 集中式版本控制SVN\n",
    "   * 分布式版本控制Git"
   ]
  },
  {
   "cell_type": "markdown",
   "metadata": {},
   "source": [
    "## git的优势\n",
    "* 大部分操作在本地完成，不需要联网\n",
    "* 完整性保证，对每次提交进行哈希操作\n",
    "* 尽可能添加版本控制数据而不是删除或修改数据\n",
    "* 分支操作非常快捷流畅\n",
    "* 与Linux命令全面兼容"
   ]
  },
  {
   "cell_type": "markdown",
   "metadata": {},
   "source": [
    "## git的本地结构\n",
    "* 工作区，写代码的地方，git add到暂存区\n",
    "* 暂存区，临时存储，git commit到本地库\n",
    "* 本地库，历史版本"
   ]
  },
  {
   "cell_type": "markdown",
   "metadata": {},
   "source": [
    "## 二、本地操作"
   ]
  },
  {
   "cell_type": "markdown",
   "metadata": {},
   "source": [
    "### 1、基本信息设置"
   ]
  },
  {
   "cell_type": "markdown",
   "metadata": {},
   "source": [
    "* 配置用户名\n",
    "git confit --global user.name \"GitHub的用户名\"\n",
    "* 配置用户名邮箱\n",
    "git config --global user.email 'GitHub的注册邮箱'"
   ]
  },
  {
   "cell_type": "markdown",
   "metadata": {},
   "source": [
    "### 2、初始化git init"
   ]
  },
  {
   "cell_type": "markdown",
   "metadata": {},
   "source": [
    "* 创建文件夹mkdir ABC\n",
    "* 在文件内初始化git（创建git仓库）\n",
    "   - cd ABC\n",
    "   - git init(在ABC路径下生成一个.git的隐藏文件),此时ABC将变成一个版本库，库里面的任何改动将会被记录\n",
    "   - 向仓库中添加文件\n",
    "   - touch doc.py新建doc.py文件\n",
    "   - git add doc.py\n",
    "   - git commit -m '提交描述'\n",
    "   - 删除文件方法\n",
    "      - rm -rf doc.py删除doc文件\n",
    "      - git rm doc.py从git中删除文件\n",
    "      - git commit -m \"描述\"\n",
    "      - 当本地库中有大幅度变更或路径修改时采用git commit -am '描述'\n",
    "   - git config --list显示操作者的信息\n",
    "   ### 删除.DS_Store：sudo find / -name \".DS_Store\" -depth -exec rm {} \\;"
   ]
  },
  {
   "cell_type": "markdown",
   "metadata": {},
   "source": [
    "### 3、git add doc.py\n",
    "* 将文件doc从工作区增加到暂存区"
   ]
  },
  {
   "cell_type": "markdown",
   "metadata": {},
   "source": [
    "### 4、git commit -m\"提交描述\"\n",
    "* 将暂存区文件上传到本地库"
   ]
  },
  {
   "cell_type": "markdown",
   "metadata": {},
   "source": [
    "### 5、git satatus查看状态"
   ]
  },
  {
   "cell_type": "markdown",
   "metadata": {},
   "source": [
    "### 6、git diff查看修改的内容"
   ]
  },
  {
   "cell_type": "markdown",
   "metadata": {},
   "source": [
    "### 7、git log显示各个版本号及各版本修改人、修改日期、修改描述"
   ]
  },
  {
   "cell_type": "markdown",
   "metadata": {},
   "source": [
    "### 8、git log --pretty=oneline显示一行，（版本号+描述）"
   ]
  },
  {
   "cell_type": "markdown",
   "metadata": {},
   "source": [
    "### 9、git reset --hard HEAD^      :  版本回退到上次版本"
   ]
  },
  {
   "cell_type": "markdown",
   "metadata": {},
   "source": [
    "### 10、git reset --hard HEAD~100:版本回退到上100次版本"
   ]
  },
  {
   "cell_type": "markdown",
   "metadata": {},
   "source": [
    "### 11、git reset --hard 版本号：版本号可以写前几位即可，不用全写完"
   ]
  },
  {
   "cell_type": "markdown",
   "metadata": {},
   "source": [
    "### 12、git reflog记录每一次操纵"
   ]
  },
  {
   "cell_type": "markdown",
   "metadata": {},
   "source": [
    "### 13、git checkout\n",
    "* 如果还在缓存区，没有add的情况下，可以采用此命令进行撤销缓存区的内容\n",
    "* 提交在缓存区还没有commit的情况下，可以采用此命令撤销到工作区去"
   ]
  },
  {
   "cell_type": "markdown",
   "metadata": {},
   "source": [
    "## 三、远程操作"
   ]
  },
  {
   "cell_type": "markdown",
   "metadata": {},
   "source": [
    "### 1、将本地电脑与github进行连接"
   ]
  },
  {
   "cell_type": "markdown",
   "metadata": {},
   "source": [
    "* 创建ssh key：   ssh-keygen -t rsa -C     '邮箱'\n",
    "* 生成.ssh路径，包括两个文件，一个是id_rsa（私有密钥），一个是id_rsa.pub（公共钥匙）\n",
    "* cat id_rsa.pub   :   打开id_rsa.pub文件获得密钥，复制出来 \n",
    "* 登陆github官网,打开settings-ssh and gpg keys，将公钥粘贴进去(最后的邮箱可以不要粘贴)\n",
    "* ssh -T git@github.com  测试钥匙是否通过"
   ]
  },
  {
   "cell_type": "markdown",
   "metadata": {},
   "source": [
    "### 2、创建并关联远程仓库"
   ]
  },
  {
   "cell_type": "markdown",
   "metadata": {},
   "source": [
    "* 新建远程仓库，复制远程仓库地址\n",
    "* 电脑关联远程仓库git remote add origin 远程仓库地址"
   ]
  },
  {
   "cell_type": "markdown",
   "metadata": {},
   "source": [
    "### 3、推送本地库内容到远程仓库"
   ]
  },
  {
   "cell_type": "markdown",
   "metadata": {},
   "source": [
    "* 需要先把远程库内容拉到本地，否则会报错，git pull origin master --allow-unrelated-histories\n",
    "* 退出vim，输入：wq\n",
    "* git push origin master命令\n",
    "* 忽略特殊文件.gitignore\n",
    "## 正常情况下是先建立远程库，将远程库clone到本地\n",
    "* git clone 远程仓库地址"
   ]
  },
  {
   "cell_type": "markdown",
   "metadata": {},
   "source": [
    "### 6、将本地仓库同步到git远程仓库中"
   ]
  },
  {
   "cell_type": "markdown",
   "metadata": {},
   "source": [
    "* git clone 仓库地址   ：将远程仓库复制到本地\n",
    "* git push从本地仓库push到远程仓库"
   ]
  },
  {
   "cell_type": "markdown",
   "metadata": {},
   "source": [
    "# 二、Git和代码托管中心Github"
   ]
  },
  {
   "cell_type": "markdown",
   "metadata": {},
   "source": [
    "##   1、基本概念"
   ]
  },
  {
   "cell_type": "markdown",
   "metadata": {},
   "source": [
    "### repository仓库\n",
    "用来存放项目代码，每个项目代码对应一个repository"
   ]
  },
  {
   "cell_type": "markdown",
   "metadata": {},
   "source": [
    "### star收藏\n",
    "收藏项目，方便下次查看"
   ]
  },
  {
   "cell_type": "markdown",
   "metadata": {},
   "source": [
    "### Fork克隆\n",
    "从被人的项目克隆过来为一个独立的项目\n",
    "\n",
    "\n",
    "可以新增代码"
   ]
  },
  {
   "cell_type": "markdown",
   "metadata": {},
   "source": [
    "### Pull request发起请求\n",
    "fork的项目改进后可以Pull给原作者，原作者查看后可以接受（接受后将改进合并到自己的仓库），也可以不接受"
   ]
  },
  {
   "cell_type": "markdown",
   "metadata": {},
   "source": [
    "###  Watch关注项目\n",
    "关注某个项目，可以看到此项目以后的任何更新"
   ]
  },
  {
   "cell_type": "markdown",
   "metadata": {},
   "source": [
    "### Issue事务卡片\n",
    "发现代码bug，但是目前没有成型代码，需要讨论时用"
   ]
  },
  {
   "cell_type": "markdown",
   "metadata": {},
   "source": [
    "### Github主页\n",
    "### 仓库主页\n",
    "* 快捷键t，搜索\n",
    "\n",
    "\n",
    "\n",
    "### 个人主页"
   ]
  },
  {
   "cell_type": "code",
   "execution_count": null,
   "metadata": {},
   "outputs": [],
   "source": []
  }
 ],
 "metadata": {
  "kernelspec": {
   "display_name": "Python 3",
   "language": "python",
   "name": "python3"
  },
  "language_info": {
   "codemirror_mode": {
    "name": "ipython",
    "version": 3
   },
   "file_extension": ".py",
   "mimetype": "text/x-python",
   "name": "python",
   "nbconvert_exporter": "python",
   "pygments_lexer": "ipython3",
   "version": "3.7.0"
  }
 },
 "nbformat": 4,
 "nbformat_minor": 2
}
