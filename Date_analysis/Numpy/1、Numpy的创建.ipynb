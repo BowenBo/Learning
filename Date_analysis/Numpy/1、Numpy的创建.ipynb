{
 "cells": [
  {
   "cell_type": "markdown",
   "metadata": {},
   "source": [
    "# 1、科学计算工具及流程\n",
    "- Numpy：提供强大数值数组对象及程序\n",
    "- Scipy：高级数据处理程序\n",
    "- Matplotlib：2D可视化\n",
    "- Mayavi:3D可视化\n",
    "# 2、numpy\n",
    "## 2.1 导入习惯\n",
    "import numpy as np\n",
    "## 2.2手动创建numpy数组\n",
    "np.array() 手动传入数组"
   ]
  },
  {
   "cell_type": "code",
   "execution_count": 2,
   "metadata": {},
   "outputs": [],
   "source": [
    "import numpy as np\n",
    "a = np.array([1, 2, 3])\n",
    "b = np.array([[1 ,2, 3], [4, 5, 6]])\n",
    "c = np.array([\n",
    "    [[1, 2, 3],\n",
    "    [4, 5, 6]],\n",
    "    [[0, 3, 6],\n",
    "    [9, 6, 8]]\n",
    "])"
   ]
  },
  {
   "cell_type": "markdown",
   "metadata": {},
   "source": [
    "## 2.3 属性ndim、shape、 len之间的关系\n",
    "* nidm：数组的维度，[ ]层数， 等于shape的第一个值\n",
    "* shape:tuple格式，数组的形状，从外到里，每层元素的个数，第一个值为第一维元素个数，第二个值为第二维元素个数，第三个值为.....，值的数量为维度\n",
    "* len()：数组最外层的元素总数，等于shape值的个数"
   ]
  },
  {
   "cell_type": "code",
   "execution_count": 4,
   "metadata": {
    "scrolled": false
   },
   "outputs": [
    {
     "name": "stdout",
     "output_type": "stream",
     "text": [
      "3 2 2\n",
      "(3,) (2, 3) (2, 2, 3)\n",
      "1 2 3\n"
     ]
    }
   ],
   "source": [
    "print(len(a), len(b), len(c))\n",
    "print(a.shape, b.shape, c.shape)\n",
    "print(a.ndim, b.ndim, c.ndim)"
   ]
  },
  {
   "cell_type": "markdown",
   "metadata": {},
   "source": [
    "## 2.4通过函数创建数组\n",
    "* 均匀分布\n",
    "    - np.arange(起始值，结束值（不含），步长)\n",
    "* 数据点分布\n",
    "    - np.linspace(起点，终点， 点数）\n",
    "* 普通数组\n",
    "    - np.zeros((shape))全0，默认float\n",
    "    - np.ones((shape))全1，默认float\n",
    "    - np.full(shape = (shape), fill_value=m)全为m的，数据类型和输入的m类型一致\n",
    "    - np.eye(N, M=None, K=0, dtype=float)\n",
    "        n：行数\n",
    "        m：列数\n",
    "        k：偏移\n",
    "        dtype数据类型\n",
    "    - np.diag()\n",
    "* 随机数\n",
    "    - np.random.rand(shape):     从[0,1)中按shape返回随机样本\n",
    "    - np.random.randn(shape)： 从标准正态分布中返回随机样本\n",
    "    - np.empty(shape, dtype=float, order=\"C\"):   随机数组\n",
    "* 基于一个数组建立重复数组\n",
    "    - np.tile(a, reps)"
   ]
  },
  {
   "cell_type": "code",
   "execution_count": 4,
   "metadata": {},
   "outputs": [
    {
     "data": {
      "text/plain": [
       "array([[3, 3, 3, 3, 3],\n",
       "       [3, 3, 3, 3, 3],\n",
       "       [3, 3, 3, 3, 3]])"
      ]
     },
     "execution_count": 4,
     "metadata": {},
     "output_type": "execute_result"
    }
   ],
   "source": [
    "np.full(shape=(3,5), fill_value=3)"
   ]
  },
  {
   "cell_type": "code",
   "execution_count": 13,
   "metadata": {},
   "outputs": [
    {
     "data": {
      "text/plain": [
       "array([0.62703658, 0.1652318 , 0.09409108, 0.68674883])"
      ]
     },
     "execution_count": 13,
     "metadata": {},
     "output_type": "execute_result"
    }
   ],
   "source": [
    "c = np.arange(1, 10, 2)\n",
    "d = np.linspace(1, 3, 6)\n",
    "e = np.zeros((3, 3))\n",
    "f = np.ones((3, 3))\n",
    "g = np.eye(3)\n",
    "h = np.diag(np.array([1, 2, 3, 4, 5]))        #对角线数据分别为[1,2,3,4,5]\n",
    "i = np.random.rand(4)                          #0到1均匀分布"
   ]
  },
  {
   "cell_type": "code",
   "execution_count": 14,
   "metadata": {
    "tags": [
     "arange"
    ]
   },
   "outputs": [
    {
     "data": {
      "text/plain": [
       "array([1, 3, 5, 7, 9])"
      ]
     },
     "execution_count": 14,
     "metadata": {},
     "output_type": "execute_result"
    }
   ],
   "source": [
    "c"
   ]
  },
  {
   "cell_type": "code",
   "execution_count": 15,
   "metadata": {},
   "outputs": [
    {
     "data": {
      "text/plain": [
       "array([1. , 1.4, 1.8, 2.2, 2.6, 3. ])"
      ]
     },
     "execution_count": 15,
     "metadata": {},
     "output_type": "execute_result"
    }
   ],
   "source": [
    "d"
   ]
  },
  {
   "cell_type": "code",
   "execution_count": 16,
   "metadata": {
    "tags": [
     "zeros"
    ]
   },
   "outputs": [
    {
     "data": {
      "text/plain": [
       "array([[0., 0., 0.],\n",
       "       [0., 0., 0.],\n",
       "       [0., 0., 0.]])"
      ]
     },
     "execution_count": 16,
     "metadata": {},
     "output_type": "execute_result"
    }
   ],
   "source": [
    "e"
   ]
  },
  {
   "cell_type": "code",
   "execution_count": 17,
   "metadata": {
    "tags": [
     "ones"
    ]
   },
   "outputs": [
    {
     "data": {
      "text/plain": [
       "array([[1., 1., 1.],\n",
       "       [1., 1., 1.],\n",
       "       [1., 1., 1.]])"
      ]
     },
     "execution_count": 17,
     "metadata": {},
     "output_type": "execute_result"
    }
   ],
   "source": [
    "f"
   ]
  },
  {
   "cell_type": "code",
   "execution_count": 34,
   "metadata": {
    "scrolled": true
   },
   "outputs": [
    {
     "data": {
      "text/plain": [
       "array([[1., 0., 0., 0.],\n",
       "       [0., 1., 0., 0.],\n",
       "       [0., 0., 1., 0.],\n",
       "       [0., 0., 0., 1.]])"
      ]
     },
     "execution_count": 34,
     "metadata": {},
     "output_type": "execute_result"
    }
   ],
   "source": [
    "g1 = np.eye((4, 4)\n",
    "g1"
   ]
  },
  {
   "cell_type": "code",
   "execution_count": 37,
   "metadata": {},
   "outputs": [
    {
     "data": {
      "text/plain": [
       "array([[0., 1., 0.],\n",
       "       [0., 0., 1.],\n",
       "       [0., 0., 0.]])"
      ]
     },
     "execution_count": 37,
     "metadata": {},
     "output_type": "execute_result"
    }
   ],
   "source": [
    "g2 = np.eye(3, 3, k=1)\n",
    "g2"
   ]
  },
  {
   "cell_type": "code",
   "execution_count": 18,
   "metadata": {
    "tags": [
     "eye(3)"
    ]
   },
   "outputs": [
    {
     "data": {
      "text/plain": [
       "array([[1., 0., 0.],\n",
       "       [0., 1., 0.],\n",
       "       [0., 0., 1.]])"
      ]
     },
     "execution_count": 18,
     "metadata": {},
     "output_type": "execute_result"
    }
   ],
   "source": [
    "g"
   ]
  },
  {
   "cell_type": "code",
   "execution_count": 19,
   "metadata": {
    "scrolled": true,
    "tags": [
     "diag([])"
    ]
   },
   "outputs": [
    {
     "data": {
      "text/plain": [
       "array([[1, 0, 0, 0, 0],\n",
       "       [0, 2, 0, 0, 0],\n",
       "       [0, 0, 3, 0, 0],\n",
       "       [0, 0, 0, 4, 0],\n",
       "       [0, 0, 0, 0, 5]])"
      ]
     },
     "execution_count": 19,
     "metadata": {},
     "output_type": "execute_result"
    }
   ],
   "source": [
    "h"
   ]
  },
  {
   "cell_type": "code",
   "execution_count": 49,
   "metadata": {},
   "outputs": [
    {
     "data": {
      "text/plain": [
       "array([[0, 0, 0, 0],\n",
       "       [1, 0, 0, 0],\n",
       "       [0, 2, 0, 0],\n",
       "       [0, 0, 3, 0]])"
      ]
     },
     "execution_count": 49,
     "metadata": {},
     "output_type": "execute_result"
    }
   ],
   "source": [
    "np.diag([1,2,3], k=-1)"
   ]
  },
  {
   "cell_type": "code",
   "execution_count": 20,
   "metadata": {
    "tags": [
     "随机数random.rand（）"
    ]
   },
   "outputs": [
    {
     "data": {
      "text/plain": [
       "array([0.62703658, 0.1652318 , 0.09409108, 0.68674883])"
      ]
     },
     "execution_count": 20,
     "metadata": {},
     "output_type": "execute_result"
    }
   ],
   "source": [
    "i"
   ]
  },
  {
   "cell_type": "code",
   "execution_count": 22,
   "metadata": {},
   "outputs": [
    {
     "data": {
      "text/plain": [
       "array([ 1.49777417, -0.02424938,  0.25658542, -0.33232425])"
      ]
     },
     "execution_count": 22,
     "metadata": {},
     "output_type": "execute_result"
    }
   ],
   "source": [
    "i1 = np.random.randn(4)     #高斯\n",
    "i1"
   ]
  },
  {
   "cell_type": "code",
   "execution_count": 28,
   "metadata": {},
   "outputs": [
    {
     "data": {
      "text/plain": [
       "array([[0.54340494, 0.27836939, 0.42451759, 0.84477613],\n",
       "       [0.00471886, 0.12156912, 0.67074908, 0.82585276]])"
      ]
     },
     "execution_count": 28,
     "metadata": {},
     "output_type": "execute_result"
    }
   ],
   "source": [
    "np.random.seed(100)\n",
    "i2 = np.random.rand(2, 4)\n",
    "i2"
   ]
  },
  {
   "cell_type": "code",
   "execution_count": 29,
   "metadata": {},
   "outputs": [
    {
     "data": {
      "text/plain": [
       "array([[[ 0.22117967, -1.07004333, -0.18949583,  0.25500144],\n",
       "        [-0.45802699,  0.43516349, -0.58359505,  0.81684707],\n",
       "        [ 0.67272081, -0.10441114, -0.53128038,  1.02973269]],\n",
       "\n",
       "       [[-0.43813562, -1.11831825,  1.61898166,  1.54160517],\n",
       "        [-0.25187914, -0.84243574,  0.18451869,  0.9370822 ],\n",
       "        [ 0.73100034,  1.36155613, -0.32623806,  0.05567601]]])"
      ]
     },
     "execution_count": 29,
     "metadata": {},
     "output_type": "execute_result"
    }
   ],
   "source": [
    "i3 = np.random.randn(2, 3, 4)\n",
    "i3"
   ]
  },
  {
   "cell_type": "code",
   "execution_count": 31,
   "metadata": {},
   "outputs": [
    {
     "data": {
      "text/plain": [
       "array([[1. , 1.4, 1.8],\n",
       "       [2.2, 2.6, 3. ]])"
      ]
     },
     "execution_count": 31,
     "metadata": {},
     "output_type": "execute_result"
    }
   ],
   "source": [
    "np.empty((2,3))"
   ]
  },
  {
   "cell_type": "code",
   "execution_count": 54,
   "metadata": {},
   "outputs": [
    {
     "data": {
      "text/plain": [
       "array([1, 2, 1, 2])"
      ]
     },
     "execution_count": 54,
     "metadata": {},
     "output_type": "execute_result"
    }
   ],
   "source": [
    "x1 = np.array([1,2])\n",
    "np.tile(x1, 2)"
   ]
  },
  {
   "cell_type": "code",
   "execution_count": 55,
   "metadata": {
    "scrolled": true
   },
   "outputs": [
    {
     "data": {
      "text/plain": [
       "array([[1, 2, 1, 2, 1, 2],\n",
       "       [1, 2, 1, 2, 1, 2]])"
      ]
     },
     "execution_count": 55,
     "metadata": {},
     "output_type": "execute_result"
    }
   ],
   "source": [
    "np.tile(x1, (2,3))"
   ]
  },
  {
   "cell_type": "code",
   "execution_count": 53,
   "metadata": {
    "scrolled": true
   },
   "outputs": [
    {
     "name": "stdout",
     "output_type": "stream",
     "text": [
      "Help on function tile in module numpy.lib.shape_base:\n",
      "\n",
      "tile(A, reps)\n",
      "    Construct an array by repeating A the number of times given by reps.\n",
      "    \n",
      "    If `reps` has length ``d``, the result will have dimension of\n",
      "    ``max(d, A.ndim)``.\n",
      "    \n",
      "    If ``A.ndim < d``, `A` is promoted to be d-dimensional by prepending new\n",
      "    axes. So a shape (3,) array is promoted to (1, 3) for 2-D replication,\n",
      "    or shape (1, 1, 3) for 3-D replication. If this is not the desired\n",
      "    behavior, promote `A` to d-dimensions manually before calling this\n",
      "    function.\n",
      "    \n",
      "    If ``A.ndim > d``, `reps` is promoted to `A`.ndim by pre-pending 1's to it.\n",
      "    Thus for an `A` of shape (2, 3, 4, 5), a `reps` of (2, 2) is treated as\n",
      "    (1, 1, 2, 2).\n",
      "    \n",
      "    Note : Although tile may be used for broadcasting, it is strongly\n",
      "    recommended to use numpy's broadcasting operations and functions.\n",
      "    \n",
      "    Parameters\n",
      "    ----------\n",
      "    A : array_like\n",
      "        The input array.\n",
      "    reps : array_like\n",
      "        The number of repetitions of `A` along each axis.\n",
      "    \n",
      "    Returns\n",
      "    -------\n",
      "    c : ndarray\n",
      "        The tiled output array.\n",
      "    \n",
      "    See Also\n",
      "    --------\n",
      "    repeat : Repeat elements of an array.\n",
      "    broadcast_to : Broadcast an array to a new shape\n",
      "    \n",
      "    Examples\n",
      "    --------\n",
      "    >>> a = np.array([0, 1, 2])\n",
      "    >>> np.tile(a, 2)\n",
      "    array([0, 1, 2, 0, 1, 2])\n",
      "    >>> np.tile(a, (2, 2))\n",
      "    array([[0, 1, 2, 0, 1, 2],\n",
      "           [0, 1, 2, 0, 1, 2]])\n",
      "    >>> np.tile(a, (2, 1, 2))\n",
      "    array([[[0, 1, 2, 0, 1, 2]],\n",
      "           [[0, 1, 2, 0, 1, 2]]])\n",
      "    \n",
      "    >>> b = np.array([[1, 2], [3, 4]])\n",
      "    >>> np.tile(b, 2)\n",
      "    array([[1, 2, 1, 2],\n",
      "           [3, 4, 3, 4]])\n",
      "    >>> np.tile(b, (2, 1))\n",
      "    array([[1, 2],\n",
      "           [3, 4],\n",
      "           [1, 2],\n",
      "           [3, 4]])\n",
      "    \n",
      "    >>> c = np.array([1,2,3,4])\n",
      "    >>> np.tile(c,(4,1))\n",
      "    array([[1, 2, 3, 4],\n",
      "           [1, 2, 3, 4],\n",
      "           [1, 2, 3, 4],\n",
      "           [1, 2, 3, 4]])\n",
      "\n"
     ]
    }
   ],
   "source": [
    "help(numpy.tile)"
   ]
  },
  {
   "cell_type": "markdown",
   "metadata": {},
   "source": [
    "## 2.5 可视化\n",
    "### 2.5.1步骤\n",
    "* terminal 输入ipython --pylab\n",
    "* %pylab inline将图形现在在notebook中，而不是在新建窗口打开\n",
    "* 导入matplotlab库建立2D可视化图形\n",
    "### 2.5.2 1D作图\n",
    "- 线图"
   ]
  },
  {
   "cell_type": "code",
   "execution_count": 45,
   "metadata": {},
   "outputs": [
    {
     "name": "stdout",
     "output_type": "stream",
     "text": [
      "Populating the interactive namespace from numpy and matplotlib\n"
     ]
    }
   ],
   "source": [
    "%pylab inline"
   ]
  },
  {
   "cell_type": "code",
   "execution_count": 41,
   "metadata": {},
   "outputs": [],
   "source": [
    "import matplotlib.pyplot as plt"
   ]
  },
  {
   "cell_type": "code",
   "execution_count": 46,
   "metadata": {},
   "outputs": [
    {
     "data": {
      "text/plain": [
       "[<matplotlib.lines.Line2D at 0x11403b630>]"
      ]
     },
     "execution_count": 46,
     "metadata": {},
     "output_type": "execute_result"
    },
    {
     "data": {
      "image/png": "[encoded data removed]",
      "text/plain": [
       "<Figure size 432x288 with 1 Axes>"
      ]
     },
     "metadata": {},
     "output_type": "display_data"
    }
   ],
   "source": [
    "x = np.linspace(1, 3, 20)\n",
    "y = np.linspace(0, 4, 20)\n",
    "plt.plot(x, y)"
   ]
  },
  {
   "cell_type": "markdown",
   "metadata": {},
   "source": [
    " - 点图"
   ]
  },
  {
   "cell_type": "code",
   "execution_count": 47,
   "metadata": {},
   "outputs": [
    {
     "data": {
      "text/plain": [
       "[<matplotlib.lines.Line2D at 0x114fd4be0>]"
      ]
     },
     "execution_count": 47,
     "metadata": {},
     "output_type": "execute_result"
    },
    {
     "data": {
      "image/png": "[encoded data removed]",
      "text/plain": [
       "<Figure size 432x288 with 1 Axes>"
      ]
     },
     "metadata": {},
     "output_type": "display_data"
    }
   ],
   "source": [
    "plt.plot(x, y, 'o')"
   ]
  },
  {
   "cell_type": "markdown",
   "metadata": {},
   "source": [
    "### 2.5.2 2D作图"
   ]
  },
  {
   "cell_type": "code",
   "execution_count": 48,
   "metadata": {},
   "outputs": [
    {
     "data": {
      "text/plain": [
       "<matplotlib.image.AxesImage at 0x115046358>"
      ]
     },
     "execution_count": 48,
     "metadata": {},
     "output_type": "execute_result"
    },
    {
     "data": {
      "image/png": "[encoded data removed]",
      "text/plain": [
       "<Figure size 432x288 with 1 Axes>"
      ]
     },
     "metadata": {},
     "output_type": "display_data"
    }
   ],
   "source": [
    "image = np.random.rand(30, 30)\n",
    "plt.imshow(image, cmap = plt.cm.hot)"
   ]
  },
  {
   "cell_type": "markdown",
   "metadata": {},
   "source": [
    "## 2.6实例查找0到100内的所有素数\n",
    "* 建立一个100位的数组np.ones((100,),dtype=bool)"
   ]
  },
  {
   "cell_type": "code",
   "execution_count": 66,
   "metadata": {},
   "outputs": [],
   "source": [
    "_prime = np.ones((100,), dtype=bool)\n",
    "# _prime"
   ]
  },
  {
   "cell_type": "markdown",
   "metadata": {},
   "source": [
    "* 将不是素数的0和1修改为False（0）"
   ]
  },
  {
   "cell_type": "code",
   "execution_count": 65,
   "metadata": {},
   "outputs": [],
   "source": [
    "_prime[:2] = 0\n",
    "# _prime"
   ]
  },
  {
   "cell_type": "code",
   "execution_count": null,
   "metadata": {},
   "outputs": [],
   "source": []
  },
  {
   "cell_type": "code",
   "execution_count": 64,
   "metadata": {},
   "outputs": [],
   "source": [
    "N_max = int(np.sqrt(len(_prime)))\n",
    "for l in range(2, N_max):\n",
    "    _prime[2*l::l] = False"
   ]
  },
  {
   "cell_type": "code",
   "execution_count": null,
   "metadata": {},
   "outputs": [],
   "source": [
    "np.nonzero\n",
    "\n",
    "np.nonzero(_prime)"
   ]
  },
  {
   "cell_type": "code",
   "execution_count": 62,
   "metadata": {},
   "outputs": [
    {
     "name": "stdout",
     "output_type": "stream",
     "text": [
      "Help on function nonzero in module numpy.core.fromnumeric:\n",
      "\n",
      "nonzero(a)\n",
      "    Return the indices of the elements that are non-zero.\n",
      "    \n",
      "    Returns a tuple of arrays, one for each dimension of `a`,\n",
      "    containing the indices of the non-zero elements in that\n",
      "    dimension. The values in `a` are always tested and returned in\n",
      "    row-major, C-style order. The corresponding non-zero\n",
      "    values can be obtained with::\n",
      "    \n",
      "        a[nonzero(a)]\n",
      "    \n",
      "    To group the indices by element, rather than dimension, use::\n",
      "    \n",
      "        transpose(nonzero(a))\n",
      "    \n",
      "    The result of this is always a 2-D array, with a row for\n",
      "    each non-zero element.\n",
      "    \n",
      "    Parameters\n",
      "    ----------\n",
      "    a : array_like\n",
      "        Input array.\n",
      "    \n",
      "    Returns\n",
      "    -------\n",
      "    tuple_of_arrays : tuple\n",
      "        Indices of elements that are non-zero.\n",
      "    \n",
      "    See Also\n",
      "    --------\n",
      "    flatnonzero :\n",
      "        Return indices that are non-zero in the flattened version of the input\n",
      "        array.\n",
      "    ndarray.nonzero :\n",
      "        Equivalent ndarray method.\n",
      "    count_nonzero :\n",
      "        Counts the number of non-zero elements in the input array.\n",
      "    \n",
      "    Examples\n",
      "    --------\n",
      "    >>> x = np.array([[1,0,0], [0,2,0], [1,1,0]])\n",
      "    >>> x\n",
      "    array([[1, 0, 0],\n",
      "           [0, 2, 0],\n",
      "           [1, 1, 0]])\n",
      "    >>> np.nonzero(x)\n",
      "    (array([0, 1, 2, 2]), array([0, 1, 0, 1]))\n",
      "    \n",
      "    >>> x[np.nonzero(x)]\n",
      "    array([1, 2, 1, 1])\n",
      "    >>> np.transpose(np.nonzero(x))\n",
      "    array([[0, 0],\n",
      "           [1, 1],\n",
      "           [2, 0],\n",
      "           [2, 1])\n",
      "    \n",
      "    A common use for ``nonzero`` is to find the indices of an array, where\n",
      "    a condition is True.  Given an array `a`, the condition `a` > 3 is a\n",
      "    boolean array and since False is interpreted as 0, np.nonzero(a > 3)\n",
      "    yields the indices of the `a` where the condition is true.\n",
      "    \n",
      "    >>> a = np.array([[1,2,3],[4,5,6],[7,8,9]])\n",
      "    >>> a > 3\n",
      "    array([[False, False, False],\n",
      "           [ True,  True,  True],\n",
      "           [ True,  True,  True]])\n",
      "    >>> np.nonzero(a > 3)\n",
      "    (array([1, 1, 1, 2, 2, 2]), array([0, 1, 2, 0, 1, 2]))\n",
      "    \n",
      "    The ``nonzero`` method of the boolean array can also be called.\n",
      "    \n",
      "    >>> (a > 3).nonzero()\n",
      "    (array([1, 1, 1, 2, 2, 2]), array([0, 1, 2, 0, 1, 2]))\n",
      "\n"
     ]
    }
   ],
   "source": [
    "help(nonzero)"
   ]
  }
 ],
 "metadata": {
  "kernelspec": {
   "display_name": "Python 3",
   "language": "python",
   "name": "python3"
  },
  "language_info": {
   "codemirror_mode": {
    "name": "ipython",
    "version": 3
   },
   "file_extension": ".py",
   "mimetype": "text/x-python",
   "name": "python",
   "nbconvert_exporter": "python",
   "pygments_lexer": "ipython3",
   "version": "3.6.5"
  }
 },
 "nbformat": 4,
 "nbformat_minor": 2
}
